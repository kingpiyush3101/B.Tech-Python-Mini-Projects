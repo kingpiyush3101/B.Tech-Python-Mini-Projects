{
 "cells": [
  {
   "cell_type": "code",
   "execution_count": 1,
   "id": "032aae19",
   "metadata": {},
   "outputs": [],
   "source": [
    "import cv2"
   ]
  },
  {
   "cell_type": "code",
   "execution_count": 2,
   "id": "fab615b0",
   "metadata": {},
   "outputs": [],
   "source": [
    "image = cv2.imread('D:\\king editz\\channel\\hacker.png')"
   ]
  },
  {
   "cell_type": "code",
   "execution_count": 3,
   "id": "0d255649",
   "metadata": {},
   "outputs": [],
   "source": [
    "gray = cv2.cvtColor(image, cv2.COLOR_BGR2GRAY)"
   ]
  },
  {
   "cell_type": "code",
   "execution_count": 4,
   "id": "9fd0e5f6",
   "metadata": {},
   "outputs": [],
   "source": [
    "cv2.imshow('Original Image',image)\n",
    "cv2.imshow('Gray Image',gray)"
   ]
  },
  {
   "cell_type": "code",
   "execution_count": 5,
   "id": "49470df8",
   "metadata": {},
   "outputs": [],
   "source": [
    "cv2.waitKey(0)\n",
    "cv2.destroyAllWindows()"
   ]
  },
  {
   "cell_type": "code",
   "execution_count": null,
   "id": "965819dc",
   "metadata": {},
   "outputs": [],
   "source": []
  }
 ],
 "metadata": {
  "kernelspec": {
   "display_name": "Python 3",
   "language": "python",
   "name": "python3"
  },
  "language_info": {
   "codemirror_mode": {
    "name": "ipython",
    "version": 3
   },
   "file_extension": ".py",
   "mimetype": "text/x-python",
   "name": "python",
   "nbconvert_exporter": "python",
   "pygments_lexer": "ipython3",
   "version": "3.9.2"
  }
 },
 "nbformat": 4,
 "nbformat_minor": 5
}
