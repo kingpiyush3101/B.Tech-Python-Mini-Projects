{
 "cells": [
  {
   "cell_type": "code",
   "execution_count": 2,
   "id": "painted-dietary",
   "metadata": {},
   "outputs": [],
   "source": [
    "import tkinter as Tkinter\n",
    "from datetime import datetime\n",
    "counter = 66600\n",
    "running = False\n",
    "def counter_label(label):\n",
    "    def count():\n",
    "        if running:\n",
    "            global counter\n",
    "            if counter==66600:            \n",
    "                display=\"Starting...\"\n",
    "            else:\n",
    "                tt = datetime.fromtimestamp(counter)\n",
    "                string = tt.strftime(\"%H:%M:%S\")\n",
    "                display=string\n",
    "            label['text']=display  \n",
    "            label.after(1000, count) \n",
    "            counter += 1\n",
    "    count()     \n",
    "def Start(label):\n",
    "    global running\n",
    "    running=True\n",
    "    counter_label(label)\n",
    "    start['state']='disabled'\n",
    "    stop['state']='normal'\n",
    "    reset['state']='normal'\n",
    "def Stop():\n",
    "    global running\n",
    "    start['state']='normal'\n",
    "    stop['state']='disabled'\n",
    "    reset['state']='normal'\n",
    "    running = False\n",
    "def Reset(label):\n",
    "    global counter\n",
    "    counter=66600\n",
    "    if running==False:      \n",
    "        reset['state']='disabled'\n",
    "        label['text']='Welcome!'\n",
    "    else:               \n",
    "        label['text']='Starting...'\n",
    "root = Tkinter.Tk()\n",
    "root.title(\"Stopwatch\")\n",
    "root.minsize(width=250, height=70)\n",
    "label = Tkinter.Label(root, text=\"Welcome!\", fg=\"black\", font=\"Verdana 30 bold\")\n",
    "label.pack()\n",
    "f = Tkinter.Frame(root)\n",
    "start = Tkinter.Button(f, text='Start', width=6, command=lambda:Start(label))\n",
    "stop = Tkinter.Button(f, text='Stop',width=6,state='disabled', command=Stop)\n",
    "reset = Tkinter.Button(f, text='Reset',width=6, state='disabled', command=lambda:Reset(label))\n",
    "f.pack(anchor = 'center',pady=5)\n",
    "start.pack(side=\"left\")\n",
    "stop.pack(side =\"left\")\n",
    "reset.pack(side=\"left\")\n",
    "root.mainloop()"
   ]
  },
  {
   "cell_type": "code",
   "execution_count": null,
   "id": "473ca492",
   "metadata": {},
   "outputs": [],
   "source": []
  }
 ],
 "metadata": {
  "kernelspec": {
   "display_name": "Python 3",
   "language": "python",
   "name": "python3"
  },
  "language_info": {
   "codemirror_mode": {
    "name": "ipython",
    "version": 3
   },
   "file_extension": ".py",
   "mimetype": "text/x-python",
   "name": "python",
   "nbconvert_exporter": "python",
   "pygments_lexer": "ipython3",
   "version": "3.9.2"
  }
 },
 "nbformat": 4,
 "nbformat_minor": 5
}
