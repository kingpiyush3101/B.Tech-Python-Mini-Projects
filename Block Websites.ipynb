{
 "cells": [
  {
   "cell_type": "code",
   "execution_count": 1,
   "id": "1a2653f2",
   "metadata": {},
   "outputs": [],
   "source": [
    "import time\n",
    "from datetime import datetime as dt"
   ]
  },
  {
   "cell_type": "code",
   "execution_count": 2,
   "id": "810b2dee",
   "metadata": {},
   "outputs": [],
   "source": [
    "hostsPath = r\"C:\\Windows\\System32\\drivers\\etc\\hosts\"\n",
    "redirect = \"127.0.0.1\""
   ]
  },
  {
   "cell_type": "code",
   "execution_count": 3,
   "id": "7c980ee6",
   "metadata": {},
   "outputs": [],
   "source": [
    "websites = [\"www.youtube.com\",\"youtube.com\"]"
   ]
  },
  {
   "cell_type": "code",
   "execution_count": 5,
   "id": "615e7cf0",
   "metadata": {},
   "outputs": [
    {
     "ename": "NameError",
     "evalue": "name 'hostaPath' is not defined",
     "output_type": "error",
     "traceback": [
      "\u001b[1;31m---------------------------------------------------------------------------\u001b[0m",
      "\u001b[1;31mNameError\u001b[0m                                 Traceback (most recent call last)",
      "\u001b[1;32m<ipython-input-5-f3e0f3948dfb>\u001b[0m in \u001b[0;36m<module>\u001b[1;34m\u001b[0m\n\u001b[0;32m     10\u001b[0m                     \u001b[0mfile\u001b[0m\u001b[1;33m.\u001b[0m\u001b[0mwrite\u001b[0m\u001b[1;33m(\u001b[0m\u001b[0mredirect_site\u001b[0m\u001b[1;33m+\u001b[0m\u001b[1;34m\"\"\u001b[0m\u001b[1;33m+\u001b[0m\u001b[1;34m\"\\n\"\u001b[0m\u001b[1;33m)\u001b[0m\u001b[1;33m\u001b[0m\u001b[1;33m\u001b[0m\u001b[0m\n\u001b[0;32m     11\u001b[0m     \u001b[1;32melse\u001b[0m\u001b[1;33m:\u001b[0m\u001b[1;33m\u001b[0m\u001b[1;33m\u001b[0m\u001b[0m\n\u001b[1;32m---> 12\u001b[1;33m         \u001b[1;32mwith\u001b[0m \u001b[0mopen\u001b[0m \u001b[1;33m(\u001b[0m\u001b[0mhostaPath\u001b[0m\u001b[1;33m,\u001b[0m\u001b[1;34m'r+'\u001b[0m\u001b[1;33m)\u001b[0m \u001b[1;32mas\u001b[0m \u001b[0mfiles\u001b[0m\u001b[1;33m:\u001b[0m\u001b[1;33m\u001b[0m\u001b[1;33m\u001b[0m\u001b[0m\n\u001b[0m\u001b[0;32m     13\u001b[0m             \u001b[0mcontent\u001b[0m\u001b[1;33m=\u001b[0m\u001b[0mfile\u001b[0m\u001b[1;33m.\u001b[0m\u001b[0mreadlines\u001b[0m\u001b[1;33m(\u001b[0m\u001b[1;33m)\u001b[0m\u001b[1;33m\u001b[0m\u001b[1;33m\u001b[0m\u001b[0m\n\u001b[0;32m     14\u001b[0m             \u001b[0mfile\u001b[0m\u001b[1;33m.\u001b[0m\u001b[0mseek\u001b[0m\u001b[1;33m(\u001b[0m\u001b[1;36m0\u001b[0m\u001b[1;33m)\u001b[0m\u001b[1;33m\u001b[0m\u001b[1;33m\u001b[0m\u001b[0m\n",
      "\u001b[1;31mNameError\u001b[0m: name 'hostaPath' is not defined"
     ]
    }
   ],
   "source": [
    "while True:\n",
    "    if dt(dt.now().year,dt.now().month,dt.now().day,15)<dt.now()<dt(dt.now().year,dt.now().month,dt.now().day,20):\n",
    "        print(\"Sorry Not Allowed....\")\n",
    "        with open (hostsPath,'r+') as files:\n",
    "            content=file.read()\n",
    "            for site in websites:\n",
    "                if site in content:\n",
    "                    pass\n",
    "                else:\n",
    "                    file.write(redirect_site+\"\"+\"\\n\")\n",
    "    else:\n",
    "        with open (hostsPath,'r+') as files:\n",
    "            content=file.readlines()\n",
    "            file.seek(0)\n",
    "            for line in content:\n",
    "                if not any(site in line for site in websites):\n",
    "                    file.write(line)\n",
    "            file.truncate()\n",
    "        print(\"Allowed Access !\")\n",
    "    time.sleep(5)    "
   ]
  },
  {
   "cell_type": "code",
   "execution_count": null,
   "id": "49229209",
   "metadata": {},
   "outputs": [],
   "source": []
  }
 ],
 "metadata": {
  "kernelspec": {
   "display_name": "Python 3",
   "language": "python",
   "name": "python3"
  },
  "language_info": {
   "codemirror_mode": {
    "name": "ipython",
    "version": 3
   },
   "file_extension": ".py",
   "mimetype": "text/x-python",
   "name": "python",
   "nbconvert_exporter": "python",
   "pygments_lexer": "ipython3",
   "version": "3.9.2"
  }
 },
 "nbformat": 4,
 "nbformat_minor": 5
}
